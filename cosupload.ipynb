{
 "cells": [
  {
   "cell_type": "code",
   "execution_count": 1,
   "metadata": {},
   "outputs": [
    {
     "name": "stdout",
     "output_type": "stream",
     "text": [
      "Looking in indexes: http://mirrors.tencentyun.com/pypi/simple\n",
      "Requirement already satisfied: coscmd in /opt/conda/envs/python3/lib/python3.6/site-packages (1.8.6.11)\n",
      "Requirement already satisfied: six>=1.11.0 in /opt/conda/envs/python3/lib/python3.6/site-packages (from coscmd) (1.14.0)\n",
      "Requirement already satisfied: pyyaml>=3 in /opt/conda/envs/python3/lib/python3.6/site-packages (from coscmd) (5.3)\n",
      "Requirement already satisfied: tqdm>=4.15.0 in /opt/conda/envs/python3/lib/python3.6/site-packages (from coscmd) (4.42.1)\n",
      "Requirement already satisfied: datetime>=4.2 in /opt/conda/envs/python3/lib/python3.6/site-packages (from coscmd) (4.3)\n",
      "Requirement already satisfied: prettytable>=0.7 in /opt/conda/envs/python3/lib/python3.6/site-packages (from coscmd) (0.7.2)\n",
      "Requirement already satisfied: pytz>=2017.2 in /opt/conda/envs/python3/lib/python3.6/site-packages (from coscmd) (2019.3)\n",
      "Requirement already satisfied: cos-python-sdk-v5>=1.6.3 in /opt/conda/envs/python3/lib/python3.6/site-packages (from coscmd) (1.7.7)\n",
      "Requirement already satisfied: argparse>=1.4.0 in /opt/conda/envs/python3/lib/python3.6/site-packages (from coscmd) (1.4.0)\n",
      "Requirement already satisfied: requests>=2.8 in /opt/conda/envs/python3/lib/python3.6/site-packages (from coscmd) (2.20.1)\n",
      "Requirement already satisfied: zope.interface in /opt/conda/envs/python3/lib/python3.6/site-packages (from datetime>=4.2->coscmd) (4.7.1)\n",
      "Requirement already satisfied: dicttoxml in /opt/conda/envs/python3/lib/python3.6/site-packages (from cos-python-sdk-v5>=1.6.3->coscmd) (1.7.4)\n",
      "Requirement already satisfied: idna<2.8,>=2.5 in /opt/conda/envs/python3/lib/python3.6/site-packages (from requests>=2.8->coscmd) (2.7)\n",
      "Requirement already satisfied: urllib3<1.25,>=1.21.1 in /opt/conda/envs/python3/lib/python3.6/site-packages (from requests>=2.8->coscmd) (1.24.3)\n",
      "Requirement already satisfied: chardet<3.1.0,>=3.0.2 in /opt/conda/envs/python3/lib/python3.6/site-packages (from requests>=2.8->coscmd) (3.0.4)\n",
      "Requirement already satisfied: certifi>=2017.4.17 in /opt/conda/envs/python3/lib/python3.6/site-packages (from requests>=2.8->coscmd) (2019.11.28)\n",
      "Requirement already satisfied: setuptools in /opt/conda/envs/python3/lib/python3.6/site-packages (from zope.interface->datetime>=4.2->coscmd) (45.2.0.post20200209)\n"
     ]
    }
   ],
   "source": [
    "!pip install coscmd"
   ]
  },
  {
   "cell_type": "code",
   "execution_count": 3,
   "metadata": {},
   "outputs": [
    {
     "name": "stdout",
     "output_type": "stream",
     "text": [
      "Created configuration file in b'/home/tione/.cos.conf'\n"
     ]
    }
   ],
   "source": [
    "!coscmd config -a AKIDiGqTUGmIbdO6UkGhJ*** -s RYRN3Ts0qRp1FE1hFVbKz*** -b data-XXX -r ap-shanghai"
   ]
  },
  {
   "cell_type": "code",
   "execution_count": null,
   "metadata": {},
   "outputs": [
    {
     "name": "stdout",
     "output_type": "stream",
     "text": [
      "Upload output/model/ad_id_embedding.csv   =>   cos://data-1301911245/data/ad_id.csv\n",
      " 43%|████████████████▊                      | 559M/1.30G [00:15<00:18, 39.0MB/s]"
     ]
    }
   ],
   "source": [
    "!coscmd upload output/model/ad_id_embedding.csv /data/ad_id.csv"
   ]
  },
  {
   "cell_type": "code",
   "execution_count": 7,
   "metadata": {},
   "outputs": [
    {
     "name": "stdout",
     "output_type": "stream",
     "text": [
      "data\t\t\t\t       output\n",
      "data_download.ipynb\t\t       run_demo.ipynb\n",
      "get_ad_embedding_features.ipynb        Untitled.ipynb\n",
      "get_creative_embedding_features.ipynb  w2v_ad_id.ipynb\n",
      "get_info_features.ipynb\t\t       w2v_creative_id.ipynb\n"
     ]
    }
   ],
   "source": [
    "!ls"
   ]
  }
 ],
 "metadata": {
  "kernelspec": {
   "display_name": "conda_python3",
   "language": "python",
   "name": "conda_python3"
  },
  "language_info": {
   "codemirror_mode": {
    "name": "ipython",
    "version": 3
   },
   "file_extension": ".py",
   "mimetype": "text/x-python",
   "name": "python",
   "nbconvert_exporter": "python",
   "pygments_lexer": "ipython3",
   "version": "3.6.5"
  }
 },
 "nbformat": 4,
 "nbformat_minor": 4
}
